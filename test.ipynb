{
 "cells": [
  {
   "cell_type": "code",
   "execution_count": 113,
   "metadata": {},
   "outputs": [],
   "source": [
    "import pandas as pd\n",
    "import numpy as np\n",
    "import matplotlib.pyplot as plt\n",
    "import seaborn as sns"
   ]
  },
  {
   "cell_type": "code",
   "execution_count": 114,
   "metadata": {},
   "outputs": [],
   "source": [
    "data = pd.read_csv(\"D:\\\\Amrita\\\\Personal\\\\NTRS\\\\Currency_Conversion_Test_Data\\\\Exchange_Rate_Report_2012.csv\")"
   ]
  },
  {
   "cell_type": "code",
   "execution_count": 115,
   "metadata": {},
   "outputs": [
    {
     "data": {
      "text/html": [
       "<div>\n",
       "<style scoped>\n",
       "    .dataframe tbody tr th:only-of-type {\n",
       "        vertical-align: middle;\n",
       "    }\n",
       "\n",
       "    .dataframe tbody tr th {\n",
       "        vertical-align: top;\n",
       "    }\n",
       "\n",
       "    .dataframe thead th {\n",
       "        text-align: right;\n",
       "    }\n",
       "</style>\n",
       "<table border=\"1\" class=\"dataframe\">\n",
       "  <thead>\n",
       "    <tr style=\"text-align: right;\">\n",
       "      <th></th>\n",
       "      <th>Date</th>\n",
       "      <th>Algerian dinar   (DZD)</th>\n",
       "      <th>Australian dollar   (AUD)</th>\n",
       "      <th>Bahrain dinar   (BHD)</th>\n",
       "      <th>Bolivar Fuerte   (VEF)</th>\n",
       "      <th>Botswana pula   (BWP)</th>\n",
       "      <th>Brazilian real   (BRL)</th>\n",
       "      <th>Brunei dollar   (BND)</th>\n",
       "      <th>Canadian dollar   (CAD)</th>\n",
       "      <th>Chilean peso   (CLP)</th>\n",
       "      <th>...</th>\n",
       "      <th>Sri Lankan rupee   (LKR)</th>\n",
       "      <th>Swedish krona   (SEK)</th>\n",
       "      <th>Swiss franc   (CHF)</th>\n",
       "      <th>Thai baht   (THB)</th>\n",
       "      <th>Trinidadian dollar   (TTD)</th>\n",
       "      <th>Tunisian dinar   (TND)</th>\n",
       "      <th>U.A.E. dirham   (AED)</th>\n",
       "      <th>U.K. pound   (GBP)</th>\n",
       "      <th>U.S. dollar   (USD)</th>\n",
       "      <th>Uruguayan peso   (UYU)</th>\n",
       "    </tr>\n",
       "  </thead>\n",
       "  <tbody>\n",
       "    <tr>\n",
       "      <th>0</th>\n",
       "      <td>3-Jan-12</td>\n",
       "      <td>NaN</td>\n",
       "      <td>0.971440</td>\n",
       "      <td>0.376</td>\n",
       "      <td>NaN</td>\n",
       "      <td>NaN</td>\n",
       "      <td>1.8485</td>\n",
       "      <td>1.2925</td>\n",
       "      <td>1.0090</td>\n",
       "      <td>518.20</td>\n",
       "      <td>...</td>\n",
       "      <td>113.8998</td>\n",
       "      <td>NaN</td>\n",
       "      <td>0.9334</td>\n",
       "      <td>NaN</td>\n",
       "      <td>NaN</td>\n",
       "      <td>1.4987</td>\n",
       "      <td>3.6725</td>\n",
       "      <td>0.640574</td>\n",
       "      <td>1</td>\n",
       "      <td>19.700</td>\n",
       "    </tr>\n",
       "    <tr>\n",
       "      <th>1</th>\n",
       "      <td>4-Jan-12</td>\n",
       "      <td>NaN</td>\n",
       "      <td>0.965904</td>\n",
       "      <td>0.376</td>\n",
       "      <td>4.2893</td>\n",
       "      <td>7.490637</td>\n",
       "      <td>1.8304</td>\n",
       "      <td>1.2874</td>\n",
       "      <td>1.0135</td>\n",
       "      <td>514.34</td>\n",
       "      <td>...</td>\n",
       "      <td>113.9000</td>\n",
       "      <td>6.8152</td>\n",
       "      <td>0.9384</td>\n",
       "      <td>31.463</td>\n",
       "      <td>6.4062</td>\n",
       "      <td>1.4942</td>\n",
       "      <td>3.6725</td>\n",
       "      <td>0.641190</td>\n",
       "      <td>1</td>\n",
       "      <td>19.689</td>\n",
       "    </tr>\n",
       "    <tr>\n",
       "      <th>2</th>\n",
       "      <td>5-Jan-12</td>\n",
       "      <td>NaN</td>\n",
       "      <td>0.968711</td>\n",
       "      <td>0.376</td>\n",
       "      <td>4.2893</td>\n",
       "      <td>7.530120</td>\n",
       "      <td>1.8432</td>\n",
       "      <td>1.2883</td>\n",
       "      <td>1.0197</td>\n",
       "      <td>512.23</td>\n",
       "      <td>...</td>\n",
       "      <td>113.9000</td>\n",
       "      <td>6.8493</td>\n",
       "      <td>0.9492</td>\n",
       "      <td>31.557</td>\n",
       "      <td>6.3886</td>\n",
       "      <td>1.4951</td>\n",
       "      <td>3.6725</td>\n",
       "      <td>0.644330</td>\n",
       "      <td>1</td>\n",
       "      <td>19.707</td>\n",
       "    </tr>\n",
       "    <tr>\n",
       "      <th>3</th>\n",
       "      <td>6-Jan-12</td>\n",
       "      <td>76.3243</td>\n",
       "      <td>0.978378</td>\n",
       "      <td>0.376</td>\n",
       "      <td>4.2893</td>\n",
       "      <td>7.530120</td>\n",
       "      <td>1.8416</td>\n",
       "      <td>1.2923</td>\n",
       "      <td>1.0232</td>\n",
       "      <td>511.80</td>\n",
       "      <td>...</td>\n",
       "      <td>113.8998</td>\n",
       "      <td>NaN</td>\n",
       "      <td>0.9516</td>\n",
       "      <td>31.637</td>\n",
       "      <td>6.3994</td>\n",
       "      <td>1.5046</td>\n",
       "      <td>3.6725</td>\n",
       "      <td>0.645245</td>\n",
       "      <td>1</td>\n",
       "      <td>NaN</td>\n",
       "    </tr>\n",
       "    <tr>\n",
       "      <th>4</th>\n",
       "      <td>9-Jan-12</td>\n",
       "      <td>76.5183</td>\n",
       "      <td>0.983284</td>\n",
       "      <td>0.376</td>\n",
       "      <td>4.2893</td>\n",
       "      <td>7.530120</td>\n",
       "      <td>1.8442</td>\n",
       "      <td>1.2994</td>\n",
       "      <td>1.0272</td>\n",
       "      <td>509.54</td>\n",
       "      <td>...</td>\n",
       "      <td>113.9000</td>\n",
       "      <td>6.9227</td>\n",
       "      <td>0.9520</td>\n",
       "      <td>31.793</td>\n",
       "      <td>6.3931</td>\n",
       "      <td>1.5145</td>\n",
       "      <td>3.6725</td>\n",
       "      <td>0.647585</td>\n",
       "      <td>1</td>\n",
       "      <td>19.650</td>\n",
       "    </tr>\n",
       "  </tbody>\n",
       "</table>\n",
       "<p>5 rows × 52 columns</p>\n",
       "</div>"
      ],
      "text/plain": [
       "       Date  Algerian dinar   (DZD)                       \\\n",
       "0  3-Jan-12                                          NaN   \n",
       "1  4-Jan-12                                          NaN   \n",
       "2  5-Jan-12                                          NaN   \n",
       "3  6-Jan-12                                      76.3243   \n",
       "4  9-Jan-12                                      76.5183   \n",
       "\n",
       "   Australian dollar   (AUD)                       \\\n",
       "0                                        0.971440   \n",
       "1                                        0.965904   \n",
       "2                                        0.968711   \n",
       "3                                        0.978378   \n",
       "4                                        0.983284   \n",
       "\n",
       "   Bahrain dinar   (BHD)                       \\\n",
       "0                                       0.376   \n",
       "1                                       0.376   \n",
       "2                                       0.376   \n",
       "3                                       0.376   \n",
       "4                                       0.376   \n",
       "\n",
       "   Bolivar Fuerte   (VEF)                       \\\n",
       "0                                          NaN   \n",
       "1                                       4.2893   \n",
       "2                                       4.2893   \n",
       "3                                       4.2893   \n",
       "4                                       4.2893   \n",
       "\n",
       "   Botswana pula   (BWP)                       \\\n",
       "0                                         NaN   \n",
       "1                                    7.490637   \n",
       "2                                    7.530120   \n",
       "3                                    7.530120   \n",
       "4                                    7.530120   \n",
       "\n",
       "   Brazilian real   (BRL)                       \\\n",
       "0                                       1.8485   \n",
       "1                                       1.8304   \n",
       "2                                       1.8432   \n",
       "3                                       1.8416   \n",
       "4                                       1.8442   \n",
       "\n",
       "   Brunei dollar   (BND)                       \\\n",
       "0                                      1.2925   \n",
       "1                                      1.2874   \n",
       "2                                      1.2883   \n",
       "3                                      1.2923   \n",
       "4                                      1.2994   \n",
       "\n",
       "   Canadian dollar   (CAD)                       \\\n",
       "0                                        1.0090   \n",
       "1                                        1.0135   \n",
       "2                                        1.0197   \n",
       "3                                        1.0232   \n",
       "4                                        1.0272   \n",
       "\n",
       "   Chilean peso   (CLP)                       ...  \\\n",
       "0                                     518.20  ...   \n",
       "1                                     514.34  ...   \n",
       "2                                     512.23  ...   \n",
       "3                                     511.80  ...   \n",
       "4                                     509.54  ...   \n",
       "\n",
       "   Sri Lankan rupee   (LKR)                       \\\n",
       "0                                       113.8998   \n",
       "1                                       113.9000   \n",
       "2                                       113.9000   \n",
       "3                                       113.8998   \n",
       "4                                       113.9000   \n",
       "\n",
       "   Swedish krona   (SEK)                       \\\n",
       "0                                         NaN   \n",
       "1                                      6.8152   \n",
       "2                                      6.8493   \n",
       "3                                         NaN   \n",
       "4                                      6.9227   \n",
       "\n",
       "   Swiss franc   (CHF)                       \\\n",
       "0                                    0.9334   \n",
       "1                                    0.9384   \n",
       "2                                    0.9492   \n",
       "3                                    0.9516   \n",
       "4                                    0.9520   \n",
       "\n",
       "   Thai baht   (THB)                       \\\n",
       "0                                     NaN   \n",
       "1                                  31.463   \n",
       "2                                  31.557   \n",
       "3                                  31.637   \n",
       "4                                  31.793   \n",
       "\n",
       "   Trinidadian dollar   (TTD)                       \\\n",
       "0                                              NaN   \n",
       "1                                           6.4062   \n",
       "2                                           6.3886   \n",
       "3                                           6.3994   \n",
       "4                                           6.3931   \n",
       "\n",
       "   Tunisian dinar   (TND)                       \\\n",
       "0                                       1.4987   \n",
       "1                                       1.4942   \n",
       "2                                       1.4951   \n",
       "3                                       1.5046   \n",
       "4                                       1.5145   \n",
       "\n",
       "   U.A.E. dirham   (AED)                       \\\n",
       "0                                      3.6725   \n",
       "1                                      3.6725   \n",
       "2                                      3.6725   \n",
       "3                                      3.6725   \n",
       "4                                      3.6725   \n",
       "\n",
       "   U.K. pound   (GBP)                       \\\n",
       "0                                 0.640574   \n",
       "1                                 0.641190   \n",
       "2                                 0.644330   \n",
       "3                                 0.645245   \n",
       "4                                 0.647585   \n",
       "\n",
       "   U.S. dollar   (USD)                       \\\n",
       "0                                         1   \n",
       "1                                         1   \n",
       "2                                         1   \n",
       "3                                         1   \n",
       "4                                         1   \n",
       "\n",
       "   Uruguayan peso   (UYU)                       \n",
       "0                                       19.700  \n",
       "1                                       19.689  \n",
       "2                                       19.707  \n",
       "3                                          NaN  \n",
       "4                                       19.650  \n",
       "\n",
       "[5 rows x 52 columns]"
      ]
     },
     "execution_count": 115,
     "metadata": {},
     "output_type": "execute_result"
    }
   ],
   "source": [
    "data.head()"
   ]
  },
  {
   "cell_type": "code",
   "execution_count": 116,
   "metadata": {},
   "outputs": [],
   "source": [
    "df = data.iloc[:,:2]"
   ]
  },
  {
   "cell_type": "code",
   "execution_count": 117,
   "metadata": {},
   "outputs": [
    {
     "data": {
      "text/html": [
       "<div>\n",
       "<style scoped>\n",
       "    .dataframe tbody tr th:only-of-type {\n",
       "        vertical-align: middle;\n",
       "    }\n",
       "\n",
       "    .dataframe tbody tr th {\n",
       "        vertical-align: top;\n",
       "    }\n",
       "\n",
       "    .dataframe thead th {\n",
       "        text-align: right;\n",
       "    }\n",
       "</style>\n",
       "<table border=\"1\" class=\"dataframe\">\n",
       "  <thead>\n",
       "    <tr style=\"text-align: right;\">\n",
       "      <th></th>\n",
       "      <th>Algerian dinar   (DZD)</th>\n",
       "    </tr>\n",
       "  </thead>\n",
       "  <tbody>\n",
       "    <tr>\n",
       "      <th>count</th>\n",
       "      <td>219.000000</td>\n",
       "    </tr>\n",
       "    <tr>\n",
       "      <th>mean</th>\n",
       "      <td>77.635898</td>\n",
       "    </tr>\n",
       "    <tr>\n",
       "      <th>std</th>\n",
       "      <td>2.558944</td>\n",
       "    </tr>\n",
       "    <tr>\n",
       "      <th>min</th>\n",
       "      <td>73.745700</td>\n",
       "    </tr>\n",
       "    <tr>\n",
       "      <th>25%</th>\n",
       "      <td>74.745300</td>\n",
       "    </tr>\n",
       "    <tr>\n",
       "      <th>50%</th>\n",
       "      <td>78.155800</td>\n",
       "    </tr>\n",
       "    <tr>\n",
       "      <th>75%</th>\n",
       "      <td>79.665900</td>\n",
       "    </tr>\n",
       "    <tr>\n",
       "      <th>max</th>\n",
       "      <td>82.103000</td>\n",
       "    </tr>\n",
       "  </tbody>\n",
       "</table>\n",
       "</div>"
      ],
      "text/plain": [
       "       Algerian dinar   (DZD)                     \n",
       "count                                   219.000000\n",
       "mean                                     77.635898\n",
       "std                                       2.558944\n",
       "min                                      73.745700\n",
       "25%                                      74.745300\n",
       "50%                                      78.155800\n",
       "75%                                      79.665900\n",
       "max                                      82.103000"
      ]
     },
     "execution_count": 117,
     "metadata": {},
     "output_type": "execute_result"
    }
   ],
   "source": [
    "df.describe()"
   ]
  },
  {
   "cell_type": "code",
   "execution_count": 118,
   "metadata": {},
   "outputs": [
    {
     "data": {
      "text/plain": [
       "Date                                           1-Aug-12\n",
       "Algerian dinar   (DZD)                          73.7457\n",
       "dtype: object"
      ]
     },
     "execution_count": 118,
     "metadata": {},
     "output_type": "execute_result"
    }
   ],
   "source": [
    "df.min()"
   ]
  },
  {
   "cell_type": "code",
   "execution_count": 119,
   "metadata": {},
   "outputs": [
    {
     "data": {
      "text/plain": [
       "Date                                           9-Oct-12\n",
       "Algerian dinar   (DZD)                           82.103\n",
       "dtype: object"
      ]
     },
     "execution_count": 119,
     "metadata": {},
     "output_type": "execute_result"
    }
   ],
   "source": [
    "df.max()"
   ]
  },
  {
   "cell_type": "code",
   "execution_count": 120,
   "metadata": {},
   "outputs": [
    {
     "name": "stdout",
     "output_type": "stream",
     "text": [
      "<class 'pandas.core.frame.DataFrame'>\n",
      "RangeIndex: 249 entries, 0 to 248\n",
      "Data columns (total 2 columns):\n",
      " #   Column                                       Non-Null Count  Dtype  \n",
      "---  ------                                       --------------  -----  \n",
      " 0   Date                                         249 non-null    object \n",
      " 1   Algerian dinar   (DZD)                       219 non-null    float64\n",
      "dtypes: float64(1), object(1)\n",
      "memory usage: 4.0+ KB\n"
     ]
    }
   ],
   "source": [
    "df.info()"
   ]
  },
  {
   "cell_type": "code",
   "execution_count": 121,
   "metadata": {},
   "outputs": [],
   "source": [
    "df['Date'] = pd.to_datetime(df['Date'])"
   ]
  },
  {
   "cell_type": "code",
   "execution_count": 122,
   "metadata": {},
   "outputs": [
    {
     "name": "stdout",
     "output_type": "stream",
     "text": [
      "<class 'pandas.core.frame.DataFrame'>\n",
      "RangeIndex: 249 entries, 0 to 248\n",
      "Data columns (total 2 columns):\n",
      " #   Column                                       Non-Null Count  Dtype         \n",
      "---  ------                                       --------------  -----         \n",
      " 0   Date                                         249 non-null    datetime64[ns]\n",
      " 1   Algerian dinar   (DZD)                       219 non-null    float64       \n",
      "dtypes: datetime64[ns](1), float64(1)\n",
      "memory usage: 4.0 KB\n"
     ]
    }
   ],
   "source": [
    "df.info()"
   ]
  },
  {
   "cell_type": "code",
   "execution_count": 123,
   "metadata": {},
   "outputs": [],
   "source": [
    "df = df.set_index('Date')"
   ]
  },
  {
   "cell_type": "code",
   "execution_count": 124,
   "metadata": {},
   "outputs": [
    {
     "data": {
      "text/html": [
       "<div>\n",
       "<style scoped>\n",
       "    .dataframe tbody tr th:only-of-type {\n",
       "        vertical-align: middle;\n",
       "    }\n",
       "\n",
       "    .dataframe tbody tr th {\n",
       "        vertical-align: top;\n",
       "    }\n",
       "\n",
       "    .dataframe thead th {\n",
       "        text-align: right;\n",
       "    }\n",
       "</style>\n",
       "<table border=\"1\" class=\"dataframe\">\n",
       "  <thead>\n",
       "    <tr style=\"text-align: right;\">\n",
       "      <th></th>\n",
       "      <th>Algerian dinar   (DZD)</th>\n",
       "    </tr>\n",
       "    <tr>\n",
       "      <th>Date</th>\n",
       "      <th></th>\n",
       "    </tr>\n",
       "  </thead>\n",
       "  <tbody>\n",
       "    <tr>\n",
       "      <th>2012-01-03</th>\n",
       "      <td>NaN</td>\n",
       "    </tr>\n",
       "    <tr>\n",
       "      <th>2012-01-04</th>\n",
       "      <td>NaN</td>\n",
       "    </tr>\n",
       "    <tr>\n",
       "      <th>2012-01-05</th>\n",
       "      <td>NaN</td>\n",
       "    </tr>\n",
       "    <tr>\n",
       "      <th>2012-01-06</th>\n",
       "      <td>76.3243</td>\n",
       "    </tr>\n",
       "    <tr>\n",
       "      <th>2012-01-09</th>\n",
       "      <td>76.5183</td>\n",
       "    </tr>\n",
       "    <tr>\n",
       "      <th>...</th>\n",
       "      <td>...</td>\n",
       "    </tr>\n",
       "    <tr>\n",
       "      <th>2012-12-20</th>\n",
       "      <td>NaN</td>\n",
       "    </tr>\n",
       "    <tr>\n",
       "      <th>2012-12-21</th>\n",
       "      <td>NaN</td>\n",
       "    </tr>\n",
       "    <tr>\n",
       "      <th>2012-12-26</th>\n",
       "      <td>78.0799</td>\n",
       "    </tr>\n",
       "    <tr>\n",
       "      <th>2012-12-27</th>\n",
       "      <td>NaN</td>\n",
       "    </tr>\n",
       "    <tr>\n",
       "      <th>2012-12-28</th>\n",
       "      <td>NaN</td>\n",
       "    </tr>\n",
       "  </tbody>\n",
       "</table>\n",
       "<p>249 rows × 1 columns</p>\n",
       "</div>"
      ],
      "text/plain": [
       "            Algerian dinar   (DZD)                     \n",
       "Date                                                   \n",
       "2012-01-03                                          NaN\n",
       "2012-01-04                                          NaN\n",
       "2012-01-05                                          NaN\n",
       "2012-01-06                                      76.3243\n",
       "2012-01-09                                      76.5183\n",
       "...                                                 ...\n",
       "2012-12-20                                          NaN\n",
       "2012-12-21                                          NaN\n",
       "2012-12-26                                      78.0799\n",
       "2012-12-27                                          NaN\n",
       "2012-12-28                                          NaN\n",
       "\n",
       "[249 rows x 1 columns]"
      ]
     },
     "execution_count": 124,
     "metadata": {},
     "output_type": "execute_result"
    }
   ],
   "source": [
    "df"
   ]
  },
  {
   "cell_type": "code",
   "execution_count": 125,
   "metadata": {},
   "outputs": [
    {
     "data": {
      "text/plain": [
       "<AxesSubplot:xlabel='Date'>"
      ]
     },
     "execution_count": 125,
     "metadata": {},
     "output_type": "execute_result"
    },
    {
     "data": {
      "image/png": "[encoded data removed]",
      "text/plain": [
       "<Figure size 864x576 with 1 Axes>"
      ]
     },
     "metadata": {
      "needs_background": "light"
     },
     "output_type": "display_data"
    }
   ],
   "source": [
    "df.plot(grid=True)"
   ]
  },
  {
   "cell_type": "code",
   "execution_count": 146,
   "metadata": {},
   "outputs": [],
   "source": [
    "startdate = '2012-06-01'\n",
    "enddate='2012-08-31'\n",
    "precip_june_aug_2005 = df[startdate:enddate]"
   ]
  },
  {
   "cell_type": "code",
   "execution_count": 178,
   "metadata": {},
   "outputs": [
    {
     "data": {
      "text/html": [
       "<div>\n",
       "<style scoped>\n",
       "    .dataframe tbody tr th:only-of-type {\n",
       "        vertical-align: middle;\n",
       "    }\n",
       "\n",
       "    .dataframe tbody tr th {\n",
       "        vertical-align: top;\n",
       "    }\n",
       "\n",
       "    .dataframe thead th {\n",
       "        text-align: right;\n",
       "    }\n",
       "</style>\n",
       "<table border=\"1\" class=\"dataframe\">\n",
       "  <thead>\n",
       "    <tr style=\"text-align: right;\">\n",
       "      <th></th>\n",
       "      <th>Date</th>\n",
       "      <th>Algerian dinar   (DZD)</th>\n",
       "    </tr>\n",
       "  </thead>\n",
       "  <tbody>\n",
       "    <tr>\n",
       "      <th>0</th>\n",
       "      <td>2012-06-01</td>\n",
       "      <td>77.4916</td>\n",
       "    </tr>\n",
       "    <tr>\n",
       "      <th>1</th>\n",
       "      <td>2012-06-04</td>\n",
       "      <td>77.1231</td>\n",
       "    </tr>\n",
       "    <tr>\n",
       "      <th>2</th>\n",
       "      <td>2012-06-05</td>\n",
       "      <td>77.1918</td>\n",
       "    </tr>\n",
       "    <tr>\n",
       "      <th>3</th>\n",
       "      <td>2012-06-06</td>\n",
       "      <td>77.1123</td>\n",
       "    </tr>\n",
       "    <tr>\n",
       "      <th>4</th>\n",
       "      <td>2012-06-07</td>\n",
       "      <td>76.9117</td>\n",
       "    </tr>\n",
       "  </tbody>\n",
       "</table>\n",
       "</div>"
      ],
      "text/plain": [
       "        Date  Algerian dinar   (DZD)                     \n",
       "0 2012-06-01                                      77.4916\n",
       "1 2012-06-04                                      77.1231\n",
       "2 2012-06-05                                      77.1918\n",
       "3 2012-06-06                                      77.1123\n",
       "4 2012-06-07                                      76.9117"
      ]
     },
     "execution_count": 178,
     "metadata": {},
     "output_type": "execute_result"
    }
   ],
   "source": [
    "dftemp = precip_june_aug_2005.reset_index()\n",
    "dftemp.head()"
   ]
  },
  {
   "cell_type": "code",
   "execution_count": 179,
   "metadata": {},
   "outputs": [
    {
     "data": {
      "text/plain": [
       "Date                                           datetime64[ns]\n",
       "Algerian dinar   (DZD)                                float64\n",
       "dtype: object"
      ]
     },
     "execution_count": 179,
     "metadata": {},
     "output_type": "execute_result"
    }
   ],
   "source": [
    "dftemp.dtypes"
   ]
  },
  {
   "cell_type": "code",
   "execution_count": 186,
   "metadata": {},
   "outputs": [
    {
     "data": {
      "image/png": "[encoded data removed]",
      "text/plain": [
       "<Figure size 720x720 with 1 Axes>"
      ]
     },
     "metadata": {
      "needs_background": "light"
     },
     "output_type": "display_data"
    }
   ],
   "source": [
    "fig, ax = plt.subplots(figsize=(10, 10))\n",
    "\n",
    "# Add x-axis and y-axis\n",
    "ax.plot(dftemp.iloc[0],\n",
    "        dftemp.iloc[1],\n",
    "        color='purple')\n",
    "\n",
    "# Set title and labels for axes\n",
    "ax.set(xlabel=\"Date\",\n",
    "       ylabel=\"Precipitation (inches)\",\n",
    "       title=\"Daily Total Precipitation\\nBoulder, Colorado in July 2018\")\n",
    "\n",
    "plt.show()"
   ]
  },
  {
   "cell_type": "code",
   "execution_count": 189,
   "metadata": {},
   "outputs": [
    {
     "data": {
      "text/plain": [
       "<AxesSubplot:xlabel='Date'>"
      ]
     },
     "execution_count": 189,
     "metadata": {},
     "output_type": "execute_result"
    },
    {
     "data": {
      "image/png": "[encoded data removed]",
      "text/plain": [
       "<Figure size 864x576 with 1 Axes>"
      ]
     },
     "metadata": {
      "needs_background": "light"
     },
     "output_type": "display_data"
    }
   ],
   "source": [
    "precip_june_aug_2005.plot()\n"
   ]
  },
  {
   "cell_type": "code",
   "execution_count": null,
   "metadata": {},
   "outputs": [],
   "source": []
  }
 ],
 "metadata": {
  "kernelspec": {
   "display_name": "Python 3.10.2 64-bit",
   "language": "python",
   "name": "python3"
  },
  "language_info": {
   "codemirror_mode": {
    "name": "ipython",
    "version": 3
   },
   "file_extension": ".py",
   "mimetype": "text/x-python",
   "name": "python",
   "nbconvert_exporter": "python",
   "pygments_lexer": "ipython3",
   "version": "3.10.2"
  },
  "orig_nbformat": 4,
  "vscode": {
   "interpreter": {
    "hash": "dd2cba9c929d9b2df0c275e00905a3933a901f70b4e1c4ab1be5a1329b9c343c"
   }
  }
 },
 "nbformat": 4,
 "nbformat_minor": 2
}
